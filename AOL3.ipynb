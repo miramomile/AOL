{
  "nbformat": 4,
  "nbformat_minor": 0,
  "metadata": {
    "colab": {
      "provenance": [],
      "authorship_tag": "ABX9TyMR1g0hAI3U2im5v8eo2DD8",
      "include_colab_link": true
    },
    "kernelspec": {
      "name": "python3",
      "display_name": "Python 3"
    },
    "language_info": {
      "name": "python"
    }
  },
  "cells": [
    {
      "cell_type": "markdown",
      "metadata": {
        "id": "view-in-github",
        "colab_type": "text"
      },
      "source": [
        "<a href=\"https://colab.research.google.com/github/miramomile/AOL/blob/main/AOL3.ipynb\" target=\"_parent\"><img src=\"https://colab.research.google.com/assets/colab-badge.svg\" alt=\"Open In Colab\"/></a>"
      ]
    },
    {
      "cell_type": "code",
      "execution_count": null,
      "metadata": {
        "id": "46Tp7L8jjS9j"
      },
      "outputs": [],
      "source": [
        "def predict_production(t):\n",
        "    return 1748.51 + 47.22 * t - 0.13 * t**2 + 0.0039 * t**3\n",
        "\n",
        "# Example usage:\n",
        "month = 12  # December 2018\n",
        "production = predict_production(month)\n",
        "print(f\"Predicted production for month {month}: {production}\")\n"
      ]
    }
  ]
}