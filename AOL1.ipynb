{
  "nbformat": 4,
  "nbformat_minor": 0,
  "metadata": {
    "colab": {
      "provenance": [],
      "authorship_tag": "ABX9TyPa6srrvzJPz0uAuSZ2qmZQ",
      "include_colab_link": true
    },
    "kernelspec": {
      "name": "python3",
      "display_name": "Python 3"
    },
    "language_info": {
      "name": "python"
    }
  },
  "cells": [
    {
      "cell_type": "markdown",
      "metadata": {
        "id": "view-in-github",
        "colab_type": "text"
      },
      "source": [
        "<a href=\"https://colab.research.google.com/github/miramomile/AOL/blob/main/AOL1.ipynb\" target=\"_parent\"><img src=\"https://colab.research.google.com/assets/colab-badge.svg\" alt=\"Open In Colab\"/></a>"
      ]
    },
    {
      "cell_type": "code",
      "execution_count": null,
      "metadata": {
        "id": "zSMtHcPAkjAP"
      },
      "outputs": [],
      "source": [
        "import numpy as np\n",
        "import pandas as pd\n",
        "import matplotlib.pyplot as plt\n",
        "from sklearn.preprocessing import PolynomialFeatures\n",
        "from sklearn.linear_model import LinearRegression\n",
        "from scipy.optimize import fsolve\n",
        "\n",
        "# Load the data from the Excel file\n",
        "file_path = 'aol_data.xlsx'\n",
        "data = pd.read_excel(file_path)\n",
        "\n",
        "# Reshape the data to have a single column with monthly production values\n",
        "data_reshaped = data.values.flatten()\n",
        "\n",
        "# Generate a time index for the months\n",
        "time_index = np.arange(1, len(data_reshaped) + 1).reshape(-1, 1)\n",
        "\n",
        "# Fit a polynomial regression model\n",
        "degree = 3  # Using a cubic polynomial for a better fit than linear\n",
        "poly_features = PolynomialFeatures(degree=degree)\n",
        "time_index_poly = poly_features.fit_transform(time_index)\n",
        "\n",
        "poly_reg_model = LinearRegression()\n",
        "poly_reg_model.fit(time_index_poly, data_reshaped)\n",
        "\n",
        "# Predict the production values using the polynomial model\n",
        "predicted_production = poly_reg_model.predict(time_index_poly)\n",
        "\n",
        "# Plot the actual vs predicted production values\n",
        "plt.figure(figsize=(12, 6))\n",
        "plt.plot(time_index, data_reshaped, label='Actual Production')\n",
        "plt.plot(time_index, predicted_production, label='Polynomial Trend (degree=3)', color='red')\n",
        "plt.xlabel('Month')\n",
        "plt.ylabel('Production')\n",
        "plt.title('Monthly Bag Production with Polynomial Trend')\n",
        "plt.legend()\n",
        "plt.show()\n",
        "\n",
        "# Print the polynomial coefficients\n",
        "print(\"Polynomial Coefficients:\", poly_reg_model.coef_)\n",
        "print(\"Intercept:\", poly_reg_model.intercept_)\n",
        "\n",
        "# Define the polynomial equation as a function\n",
        "def production_equation(t):\n",
        "    return 1748.51 + 47.22 * t - 0.13 * t**2 + 0.0039 * t**3 - 25000\n",
        "\n",
        "# Initial guess for the root\n",
        "initial_guess = 100  # Guess a value close to the higher range of the months\n",
        "\n",
        "# Use fsolve to find the root\n",
        "solution = fsolve(production_equation, initial_guess)\n",
        "\n",
        "# Extract the month when production exceeds 25000\n",
        "month_exceeding_capacity = solution[0]\n",
        "\n",
        "# Calculate when to start building the new warehouse\n",
        "start_building_month = month_exceeding_capacity - 13\n",
        "\n",
        "print(f\"Month when production exceeds capacity: {month_exceeding_capacity}\")\n",
        "print(f\"Month to start building the new warehouse: {start_building_month}\")\n"
      ]
    }
  ]
}