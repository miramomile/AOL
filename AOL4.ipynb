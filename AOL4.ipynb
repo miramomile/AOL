{
  "nbformat": 4,
  "nbformat_minor": 0,
  "metadata": {
    "colab": {
      "provenance": [],
      "authorship_tag": "ABX9TyPsg68maqqrGtX4SzGPef8P",
      "include_colab_link": true
    },
    "kernelspec": {
      "name": "python3",
      "display_name": "Python 3"
    },
    "language_info": {
      "name": "python"
    }
  },
  "cells": [
    {
      "cell_type": "markdown",
      "metadata": {
        "id": "view-in-github",
        "colab_type": "text"
      },
      "source": [
        "<a href=\"https://colab.research.google.com/github/miramomile/AOL/blob/main/AOL4.ipynb\" target=\"_parent\"><img src=\"https://colab.research.google.com/assets/colab-badge.svg\" alt=\"Open In Colab\"/></a>"
      ]
    },
    {
      "cell_type": "code",
      "execution_count": null,
      "metadata": {
        "id": "BNRTcrkWjxx7"
      },
      "outputs": [],
      "source": [
        "from scipy.optimize import fsolve\n",
        "\n",
        "# Define the polynomial equation as a function\n",
        "def production_equation(t):\n",
        "    return 1748.51 + 47.22 * t - 0.13 * t**2 + 0.0039 * t**3 - 25000\n",
        "\n",
        "# Initial guess for the root\n",
        "initial_guess = 100  # Guess a value close to the higher range of the months\n",
        "\n",
        "# Use fsolve to find the root\n",
        "solution = fsolve(production_equation, initial_guess)\n",
        "\n",
        "# Extract the month when production exceeds 25000\n",
        "month_exceeding_capacity = solution[0]\n",
        "\n",
        "# Calculate when to start building the new warehouse\n",
        "start_building_month = month_exceeding_capacity - 13\n",
        "\n",
        "print(f\"Month when production exceeds capacity: {month_exceeding_capacity}\")\n",
        "print(f\"Month to start building the new warehouse: {start_building_month}\")\n"
      ]
    }
  ]
}